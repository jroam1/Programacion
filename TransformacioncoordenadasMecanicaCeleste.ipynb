{
  "nbformat": 4,
  "nbformat_minor": 0,
  "metadata": {
    "colab": {
      "name": "TransformacioncoordenadasMecanicaCeleste.ipynb",
      "provenance": [],
      "collapsed_sections": [],
      "authorship_tag": "ABX9TyNvpEVhnQ2els6l9mAXYNh7",
      "include_colab_link": true
    },
    "kernelspec": {
      "name": "python3",
      "display_name": "Python 3"
    },
    "language_info": {
      "name": "python"
    }
  },
  "cells": [
    {
      "cell_type": "markdown",
      "metadata": {
        "id": "view-in-github",
        "colab_type": "text"
      },
      "source": [
        "<a href=\"https://colab.research.google.com/github/jroam1/Programacion/blob/master/TransformacioncoordenadasMecanicaCeleste.ipynb\" target=\"_parent\"><img src=\"https://colab.research.google.com/assets/colab-badge.svg\" alt=\"Open In Colab\"/></a>"
      ]
    },
    {
      "cell_type": "code",
      "execution_count": 25,
      "metadata": {
        "id": "h-16GN9JwGoO"
      },
      "outputs": [],
      "source": [
        "import numpy as np\n",
        "import matplotlib.pyplot as plt\n",
        "\n",
        "e = 23.43927944\n",
        "\n",
        "def ecli_ecua(x,y,z):\n",
        "  i = x\n",
        "  j = (y*np.cos(np.radians(e))) - (z*np.sin(np.radians(e)))\n",
        "  k = (y*np.sin(np.radians(e))) + (z*np.cos(np.radians(e)))\n",
        "  print('Eclípticas a Ecuatoriales:')\n",
        "  return (i,j,k)\n",
        "\n",
        "def rec_esf(x,y,z):\n",
        "  rl = np.sqrt(x**2 + y**2 + z**2)\n",
        "  pl = np.degrees(np.arctan(y/x))\n",
        "  tl = np.degrees(np.arcsin(z/(np.sqrt(x**2 + y**2 + z**2))))\n",
        "  print('Rectangulares a Esféricas:')\n",
        "  return (rl,pl,tl)\n",
        "\n",
        "def ecua_ecli(x,y,z):\n",
        "  id = x\n",
        "  jd = (y*np.cos(np.radians(e))) + (z*np.sin(np.radians(e)))\n",
        "  kd = -(y*np.sin(np.radians(e))) + (z*np.cos(np.radians(e)))\n",
        "  print('Ecuatoriales a Eclípticas:')\n",
        "  return (id,jd,kd)\n",
        "\n",
        "def esf_rec(r,p,t):\n",
        "  xi = r*np.cos(np.radians(p))*np.cos(np.radians(t)) \n",
        "  yi = r*np.cos(np.radians(t))*np.sin(np.radians(p))\n",
        "  zi = r*np.sin(np.radians(t))\n",
        "  print('Esféricas a Rectangulares:')\n",
        "  return (xi,yi,zi)\n"
      ]
    },
    {
      "cell_type": "code",
      "source": [
        "esf_rec(5.8919427, 352.5766665, -4.3068333)"
      ],
      "metadata": {
        "colab": {
          "base_uri": "https://localhost:8080/"
        },
        "id": "_E-32aj3oaLJ",
        "outputId": "0b9cd233-f6b4-4ea5-a817-96d65a0b06a5"
      },
      "execution_count": 12,
      "outputs": [
        {
          "output_type": "stream",
          "name": "stdout",
          "text": [
            "Esféricas a Rectangulares:\n"
          ]
        },
        {
          "output_type": "execute_result",
          "data": {
            "text/plain": [
              "(5.826061826379792, -0.7590861103014845, -0.44247107524764456)"
            ]
          },
          "metadata": {},
          "execution_count": 12
        }
      ]
    },
    {
      "cell_type": "code",
      "source": [
        "ecua_ecli(5.8260618, -0.7590861, -0.4424711)"
      ],
      "metadata": {
        "colab": {
          "base_uri": "https://localhost:8080/"
        },
        "id": "ZsLkn5exlTbF",
        "outputId": "6be48aba-328e-4408-da6c-c0852ca4492e"
      },
      "execution_count": 10,
      "outputs": [
        {
          "output_type": "stream",
          "name": "stdout",
          "text": [
            "Ecuatoriales a Eclípticas:\n"
          ]
        },
        {
          "output_type": "execute_result",
          "data": {
            "text/plain": [
              "(5.8260618, -0.872452754868889, -0.10401236498660271)"
            ]
          },
          "metadata": {},
          "execution_count": 10
        }
      ]
    },
    {
      "cell_type": "code",
      "source": [
        "ecli_ecua(0.96237028, 0.27368904, -0.00001802)"
      ],
      "metadata": {
        "colab": {
          "base_uri": "https://localhost:8080/"
        },
        "id": "dHNzCWGjogJG",
        "outputId": "2dfa24b0-59af-49c2-d110-48d8b98db53a"
      },
      "execution_count": 13,
      "outputs": [
        {
          "output_type": "stream",
          "name": "stdout",
          "text": [
            "Eclípticas a Ecuatoriales:\n"
          ]
        },
        {
          "output_type": "execute_result",
          "data": {
            "text/plain": [
              "(0.96237028, 0.25111197490209564, 0.10885066376284194)"
            ]
          },
          "metadata": {},
          "execution_count": 13
        }
      ]
    },
    {
      "cell_type": "code",
      "source": [
        "rec_esf(0.96237028, 0.25111197, 0.10885066)"
      ],
      "metadata": {
        "colab": {
          "base_uri": "https://localhost:8080/"
        },
        "id": "oc8pee2No2X2",
        "outputId": "953d98a0-2d52-4227-ee55-3a963eb085e6"
      },
      "execution_count": 26,
      "outputs": [
        {
          "output_type": "stream",
          "name": "stdout",
          "text": [
            "Rectangulares a Esféricas:\n"
          ]
        },
        {
          "output_type": "execute_result",
          "data": {
            "text/plain": [
              "(1.0005309807732068, 14.624154588789509, 6.245735828352759)"
            ]
          },
          "metadata": {},
          "execution_count": 26
        }
      ]
    },
    {
      "cell_type": "code",
      "source": [
        "np.arctan(0.25111197/0.96237028)"
      ],
      "metadata": {
        "colab": {
          "base_uri": "https://localhost:8080/"
        },
        "id": "eriHHaV6rPtZ",
        "outputId": "22fb5517-3bf3-4707-f71f-b7ff2f5d1eba"
      },
      "execution_count": 20,
      "outputs": [
        {
          "output_type": "execute_result",
          "data": {
            "text/plain": [
              "0.25523964789501435"
            ]
          },
          "metadata": {},
          "execution_count": 20
        }
      ]
    }
  ]
}